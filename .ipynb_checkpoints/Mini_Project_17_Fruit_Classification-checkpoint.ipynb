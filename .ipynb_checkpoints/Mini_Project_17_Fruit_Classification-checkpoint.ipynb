{
 "cells": [
  {
   "cell_type": "code",
   "execution_count": null,
   "metadata": {},
   "outputs": [],
   "source": [
    "import tensorflow as tf\n",
    "import pandas as pd\n",
    "import matplotlib.pyplot as plt"
   ]
  },
  {
   "cell_type": "code",
   "execution_count": null,
   "metadata": {},
   "outputs": [],
   "source": [
    "train_datagen = tf.keras.preprocessing.image.ImageDataGenerator(rescale = 1./255,\n",
    "                                                            shear_range = 0.2,\n",
    "                                                            zoom_range = 0.2,\n",
    "                                                            horizontal_flip = True)"
   ]
  },
  {
   "cell_type": "code",
   "execution_count": null,
   "metadata": {},
   "outputs": [],
   "source": [
    "test_datagen = tf.keras.preprocessing.image.ImageDataGenerator(rescale = 1./255)"
   ]
  },
  {
   "cell_type": "code",
   "execution_count": null,
   "metadata": {},
   "outputs": [],
   "source": [
    "training_set = train_datagen.flow_from_directory('datasets/fruit/Training/',\n",
    "                                                target_size = (100,100),\n",
    "                                                batch_size = 32,\n",
    "                                                class_mode = 'categorical',\n",
    "                                                shuffle = True)"
   ]
  },
  {
   "cell_type": "code",
   "execution_count": null,
   "metadata": {},
   "outputs": [],
   "source": [
    "test_set = test_datagen.flow_from_directory('datasets/fruit/Test/',\n",
    "                                           target_size = (100,100),\n",
    "                                           batch_size = 32,\n",
    "                                           class_mode = 'categorical',\n",
    "                                           shuffle = False)"
   ]
  },
  {
   "cell_type": "code",
   "execution_count": null,
   "metadata": {},
   "outputs": [],
   "source": [
    "classifier = tf.keras.models.Sequential()"
   ]
  },
  {
   "cell_type": "code",
   "execution_count": null,
   "metadata": {},
   "outputs": [],
   "source": [
    "#1. Convolution layer\n",
    "classifier.add(tf.keras.layers.Conv2D(16,(2,2),input_shape=(100,100,3),activation='relu'))\n",
    "\n",
    "#2. Pooling layer\n",
    "classifier.add(tf.keras.layers.MaxPooling2D(pool_size = (2,2)))\n",
    "\n",
    "#3. Second convolution layer\n",
    "classifier.add(tf.keras.layers.Conv2D(32,(2,2),activation='relu'))\n",
    "\n",
    "#4. Second pooling layer\n",
    "classifier.add(tf.keras.layers.MaxPooling2D(pool_size = (2,2)))\n",
    "\n",
    "#5. Add third and fourth convolution layers\n",
    "classifier.add(tf.keras.layers.Conv2D(64,(2,2),activation='relu'))\n",
    "classifier.add(tf.keras.layers.Conv2D(64,(2,2),activation='relu'))\n",
    "\n",
    "#6. Third pooling layer\n",
    "classifier.add(tf.keras.layers.MaxPooling2D(pool_size = (2,2)))\n",
    "\n",
    "#7. Dropout layer\n",
    "classifier.add(tf.keras.layers.Dropout(0.3))\n",
    "\n",
    "#8. Flattening layer\n",
    "classifier.add(tf.keras.layers.Flatten())\n",
    "\n",
    "#9. Full connection\n",
    "classifier.add(tf.keras.layers.Dense(units = 150, activation = 'relu'))\n",
    "\n",
    "#10. Second dropout layer\n",
    "classifier.add(tf.keras.layers.Dropout(0.4))\n",
    "\n",
    "#11. Ouput layer\n",
    "classifier.add(tf.keras.layers.Dense(units = 5, activation = 'softmax'))"
   ]
  },
  {
   "cell_type": "code",
   "execution_count": null,
   "metadata": {},
   "outputs": [],
   "source": [
    "classifier.compile(optimizer = 'rmsprop',\n",
    "                  loss = 'categorical_crossentropy',\n",
    "                  metrics = ['accuracy'])"
   ]
  },
  {
   "cell_type": "code",
   "execution_count": null,
   "metadata": {},
   "outputs": [],
   "source": [
    "cnn = classifier.fit_generator(generator = training_set,\n",
    "                              steps_per_epoch = 32,\n",
    "                              epochs = 30,\n",
    "                              validation_data = test_set,\n",
    "                              validation_steps = 10)"
   ]
  },
  {
   "cell_type": "code",
   "execution_count": null,
   "metadata": {},
   "outputs": [],
   "source": [
    "plt.plot(cnn.history['accuracy'],color=\"r\",label=\"accuracy\")\n",
    "plt.title('Accuracy Graph')\n",
    "plt.xlabel('number of epochs')\n",
    "plt.ylabel('accuracy')\n",
    "plt.legend()\n",
    "plt.grid()\n",
    "plt.show()"
   ]
  },
  {
   "cell_type": "code",
   "execution_count": null,
   "metadata": {},
   "outputs": [],
   "source": [
    "test_labels = test_set.labels"
   ]
  },
  {
   "cell_type": "code",
   "execution_count": null,
   "metadata": {},
   "outputs": [],
   "source": [
    "predictions = classifier.predict(test_set)"
   ]
  },
  {
   "cell_type": "code",
   "execution_count": null,
   "metadata": {},
   "outputs": [],
   "source": [
    "predict_labels = np.argmax(predictions, axis=-1)"
   ]
  },
  {
   "cell_type": "code",
   "execution_count": null,
   "metadata": {},
   "outputs": [],
   "source": [
    "from sklearn.metrics import confusion_matrix\n",
    "import numpy as np\n",
    "np.set_printoptions(threshold = np.inf)\n",
    "\n",
    "print(\"Confusion Matrix: \\n\" confusion_matrix(test_labels,predict_labels))"
   ]
  },
  {
   "cell_type": "code",
   "execution_count": null,
   "metadata": {},
   "outputs": [],
   "source": [
    "import seaborn as sns\n",
    "\n",
    "sns.set(font_scale = 1.0)\n",
    "plt.figure(figsize = (16,16))\n",
    "\n",
    "CM = confusion_matrix(test_labels,predict_labels)\n",
    "ax = plt.axes()\n",
    "\n",
    "sns.heatmap(CM, annot = True,\n",
    "           annot_kws{'size':10},\n",
    "           fmt='d',\n",
    "           xticklabels=range(0,5),\n",
    "           yticklabels=range(0,5),\n",
    "           ax=ax)\n",
    "ax.set_title('Confusion Matrix')\n",
    "\n",
    "plt.show()"
   ]
  }
 ],
 "metadata": {
  "kernelspec": {
   "display_name": "Python 3",
   "language": "python",
   "name": "python3"
  },
  "language_info": {
   "codemirror_mode": {
    "name": "ipython",
    "version": 3
   },
   "file_extension": ".py",
   "mimetype": "text/x-python",
   "name": "python",
   "nbconvert_exporter": "python",
   "pygments_lexer": "ipython3",
   "version": "3.7.4"
  }
 },
 "nbformat": 4,
 "nbformat_minor": 4
}
