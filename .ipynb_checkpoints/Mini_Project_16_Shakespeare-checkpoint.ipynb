{
 "cells": [
  {
   "cell_type": "code",
   "execution_count": 1,
   "metadata": {},
   "outputs": [],
   "source": [
    "import tensorflow as tf\n",
    "from sklearn.model_selection import train_test_split"
   ]
  },
  {
   "cell_type": "code",
   "execution_count": 2,
   "metadata": {},
   "outputs": [],
   "source": [
    "#alllines-reduced.txt includes Act I, Scenes I-III of Henry IV\n",
    "with open('datasets/alllines-reduced.txt', 'r') as file:\n",
    "    text = file.read()\n",
    "    lines = text.lower().split('\\n')\n",
    "\n",
    "#Define words, vocabulary size and sequences of words as lines\n",
    "#from keras.preprocessing.text import text_to_word_sequence, Tokenizer\n",
    "words = tf.keras.preprocessing.text.text_to_word_sequence(text)\n",
    "tokenizer = tf.keras.preprocessing.text.Tokenizer()\n",
    "tokenizer.fit_on_texts(words)\n",
    "vocabulary_size = len(tokenizer.word_index) + 1\n",
    "sequences = tokenizer.texts_to_sequences(lines)\n",
    "\n",
    "#Find subsequences \n",
    "subsequences = []\n",
    "for sequence in sequences:\n",
    "    for i in range(1, len(sequence)):\n",
    "        subsequence = sequence[:i+1]\n",
    "        subsequences.append(subsequence)"
   ]
  },
  {
   "cell_type": "code",
   "execution_count": 3,
   "metadata": {},
   "outputs": [
    {
     "data": {
      "text/plain": [
       "1464"
      ]
     },
     "execution_count": 3,
     "metadata": {},
     "output_type": "execute_result"
    }
   ],
   "source": [
    "vocabulary_size"
   ]
  },
  {
   "cell_type": "code",
   "execution_count": 4,
   "metadata": {},
   "outputs": [],
   "source": [
    "#from keras.preprocessing.sequence import pad_sequences\n",
    "sequence_length = max([len(sequence) for sequence in sequences])\n",
    "sequences = tf.keras.preprocessing.sequence.pad_sequences(subsequences, maxlen=sequence_length, padding='pre')"
   ]
  },
  {
   "cell_type": "code",
   "execution_count": 5,
   "metadata": {},
   "outputs": [],
   "source": [
    "#from keras.utils import to_categorical\n",
    "x, y = sequences[:,:-1],sequences[:,-1]\n",
    "y = tf.keras.utils.to_categorical(y, num_classes=vocabulary_size)"
   ]
  },
  {
   "cell_type": "code",
   "execution_count": 6,
   "metadata": {},
   "outputs": [
    {
     "name": "stdout",
     "output_type": "stream",
     "text": [
      "(4339, 15) (4339, 1464)\n"
     ]
    }
   ],
   "source": [
    "print(x.shape,y.shape)"
   ]
  },
  {
   "cell_type": "code",
   "execution_count": 7,
   "metadata": {},
   "outputs": [],
   "source": [
    "x_train, x_test, y_train, y_test = train_test_split(x, y, test_size=0.20, random_state=0)"
   ]
  },
  {
   "cell_type": "code",
   "execution_count": 8,
   "metadata": {},
   "outputs": [],
   "source": [
    "model = tf.keras.models.Sequential()"
   ]
  },
  {
   "cell_type": "code",
   "execution_count": 9,
   "metadata": {},
   "outputs": [],
   "source": [
    "#1. An embedding layer with the following parameters:\n",
    "    #The input dimension is vocabulary_size\n",
    "    #The output dimension is 100\n",
    "    #The input length is sequence_length - 1\n",
    "model.add(tf.keras.layers.Embedding(input_dim=vocabulary_size, output_dim=100, input_length=sequence_length-1))\n",
    "\n",
    "#2. An LSTM layer with 100 units\n",
    "model.add(tf.keras.layers.LSTM(100))\n",
    "\n",
    "#3. A dropout layer with a dropout rate of 10%\n",
    "model.add(tf.keras.layers.Dropout(0.10))\n",
    "\n",
    "#4.A dense layer with the following parameters:\n",
    "    #Activation function is softmax\n",
    "    #The number of units is vocabulary_size\n",
    "model.add(tf.keras.layers.Dense(units=vocabulary_size, activation='softmax'))"
   ]
  },
  {
   "cell_type": "code",
   "execution_count": 10,
   "metadata": {},
   "outputs": [],
   "source": [
    "#Build the network using the following parameters:\n",
    "    #Optimizer: Adam\n",
    "    #Loss function: categorical_crossentropy\n",
    "    #Metrics: accuracy\n",
    "    #Epochs: 500\n",
    "model.compile(optimizer='adam', loss='categorical_crossentropy', metrics=['accuracy'])"
   ]
  },
  {
   "cell_type": "code",
   "execution_count": 11,
   "metadata": {},
   "outputs": [
    {
     "name": "stdout",
     "output_type": "stream",
     "text": [
      "Model: \"sequential\"\n",
      "_________________________________________________________________\n",
      "Layer (type)                 Output Shape              Param #   \n",
      "=================================================================\n",
      "embedding (Embedding)        (None, 15, 100)           146400    \n",
      "_________________________________________________________________\n",
      "lstm (LSTM)                  (None, 100)               80400     \n",
      "_________________________________________________________________\n",
      "dropout (Dropout)            (None, 100)               0         \n",
      "_________________________________________________________________\n",
      "dense (Dense)                (None, 1464)              147864    \n",
      "=================================================================\n",
      "Total params: 374,664\n",
      "Trainable params: 374,664\n",
      "Non-trainable params: 0\n",
      "_________________________________________________________________\n"
     ]
    }
   ],
   "source": [
    "model.summary()"
   ]
  },
  {
   "cell_type": "code",
   "execution_count": 12,
   "metadata": {},
   "outputs": [],
   "source": [
    "callback = tf.keras.callbacks.EarlyStopping(monitor='loss', patience=3)"
   ]
  },
  {
   "cell_type": "code",
   "execution_count": 13,
   "metadata": {},
   "outputs": [
    {
     "name": "stdout",
     "output_type": "stream",
     "text": [
      "Epoch 1/500\n",
      "109/109 [==============================] - 1s 12ms/step - loss: 6.7241 - accuracy: 0.0314\n",
      "Epoch 2/500\n",
      "109/109 [==============================] - 1s 11ms/step - loss: 6.1954 - accuracy: 0.0409\n",
      "Epoch 3/500\n",
      "109/109 [==============================] - 1s 11ms/step - loss: 6.0587 - accuracy: 0.0380\n",
      "Epoch 4/500\n",
      "109/109 [==============================] - 1s 12ms/step - loss: 5.9676 - accuracy: 0.0464\n",
      "Epoch 5/500\n",
      "109/109 [==============================] - 1s 11ms/step - loss: 5.8812 - accuracy: 0.0550\n",
      "Epoch 6/500\n",
      "109/109 [==============================] - 1s 11ms/step - loss: 5.7950 - accuracy: 0.0573\n",
      "Epoch 7/500\n",
      "109/109 [==============================] - 1s 11ms/step - loss: 5.7169 - accuracy: 0.0666\n",
      "Epoch 8/500\n",
      "109/109 [==============================] - 1s 11ms/step - loss: 5.6425 - accuracy: 0.0691\n",
      "Epoch 9/500\n",
      "109/109 [==============================] - 1s 11ms/step - loss: 5.5713 - accuracy: 0.0726\n",
      "Epoch 10/500\n",
      "109/109 [==============================] - 1s 11ms/step - loss: 5.5007 - accuracy: 0.0740\n",
      "Epoch 11/500\n",
      "109/109 [==============================] - 1s 12ms/step - loss: 5.4304 - accuracy: 0.0755\n",
      "Epoch 12/500\n",
      "109/109 [==============================] - 1s 11ms/step - loss: 5.3566 - accuracy: 0.0807\n",
      "Epoch 13/500\n",
      "109/109 [==============================] - 1s 11ms/step - loss: 5.2866 - accuracy: 0.0859\n",
      "Epoch 14/500\n",
      "109/109 [==============================] - 1s 11ms/step - loss: 5.2010 - accuracy: 0.0942\n",
      "Epoch 15/500\n",
      "109/109 [==============================] - 1s 11ms/step - loss: 5.1188 - accuracy: 0.0994\n",
      "Epoch 16/500\n",
      "109/109 [==============================] - 1s 11ms/step - loss: 5.0306 - accuracy: 0.1049\n",
      "Epoch 17/500\n",
      "109/109 [==============================] - 1s 11ms/step - loss: 4.9467 - accuracy: 0.1101\n",
      "Epoch 18/500\n",
      "109/109 [==============================] - 1s 11ms/step - loss: 4.8514 - accuracy: 0.1175\n",
      "Epoch 19/500\n",
      "109/109 [==============================] - 1s 12ms/step - loss: 4.7615 - accuracy: 0.1227\n",
      "Epoch 20/500\n",
      "109/109 [==============================] - 1s 11ms/step - loss: 4.6539 - accuracy: 0.1351\n",
      "Epoch 21/500\n",
      "109/109 [==============================] - 1s 11ms/step - loss: 4.5593 - accuracy: 0.1504\n",
      "Epoch 22/500\n",
      "109/109 [==============================] - 1s 11ms/step - loss: 4.4507 - accuracy: 0.1619\n",
      "Epoch 23/500\n",
      "109/109 [==============================] - 1s 11ms/step - loss: 4.3461 - accuracy: 0.1740\n",
      "Epoch 24/500\n",
      "109/109 [==============================] - 1s 11ms/step - loss: 4.2442 - accuracy: 0.1861\n",
      "Epoch 25/500\n",
      "109/109 [==============================] - 1s 11ms/step - loss: 4.1295 - accuracy: 0.2043\n",
      "Epoch 26/500\n",
      "109/109 [==============================] - 1s 11ms/step - loss: 4.0203 - accuracy: 0.2158\n",
      "Epoch 27/500\n",
      "109/109 [==============================] - 1s 11ms/step - loss: 3.9089 - accuracy: 0.2362\n",
      "Epoch 28/500\n",
      "109/109 [==============================] - 1s 11ms/step - loss: 3.8016 - accuracy: 0.2538\n",
      "Epoch 29/500\n",
      "109/109 [==============================] - 1s 11ms/step - loss: 3.6900 - accuracy: 0.2627\n",
      "Epoch 30/500\n",
      "109/109 [==============================] - 1s 11ms/step - loss: 3.5774 - accuracy: 0.2864\n",
      "Epoch 31/500\n",
      "109/109 [==============================] - 1s 11ms/step - loss: 3.4665 - accuracy: 0.3011\n",
      "Epoch 32/500\n",
      "109/109 [==============================] - 1s 11ms/step - loss: 3.3568 - accuracy: 0.3152\n",
      "Epoch 33/500\n",
      "109/109 [==============================] - 1s 11ms/step - loss: 3.2476 - accuracy: 0.3345\n",
      "Epoch 34/500\n",
      "109/109 [==============================] - 1s 11ms/step - loss: 3.1378 - accuracy: 0.3564\n",
      "Epoch 35/500\n",
      "109/109 [==============================] - 1s 11ms/step - loss: 3.0329 - accuracy: 0.3803\n",
      "Epoch 36/500\n",
      "109/109 [==============================] - 1s 11ms/step - loss: 2.9197 - accuracy: 0.3964\n",
      "Epoch 37/500\n",
      "109/109 [==============================] - 1s 11ms/step - loss: 2.8247 - accuracy: 0.4152\n",
      "Epoch 38/500\n",
      "109/109 [==============================] - 1s 11ms/step - loss: 2.7294 - accuracy: 0.4322\n",
      "Epoch 39/500\n",
      "109/109 [==============================] - 1s 11ms/step - loss: 2.6417 - accuracy: 0.4569\n",
      "Epoch 40/500\n",
      "109/109 [==============================] - 1s 11ms/step - loss: 2.5451 - accuracy: 0.4757\n",
      "Epoch 41/500\n",
      "109/109 [==============================] - 1s 11ms/step - loss: 2.4591 - accuracy: 0.4958\n",
      "Epoch 42/500\n",
      "109/109 [==============================] - 1s 11ms/step - loss: 2.3696 - accuracy: 0.5108\n",
      "Epoch 43/500\n",
      "109/109 [==============================] - 1s 12ms/step - loss: 2.2864 - accuracy: 0.5243\n",
      "Epoch 44/500\n",
      "109/109 [==============================] - 1s 13ms/step - loss: 2.2110 - accuracy: 0.5462\n",
      "Epoch 45/500\n",
      "109/109 [==============================] - 1s 11ms/step - loss: 2.1264 - accuracy: 0.5601\n",
      "Epoch 46/500\n",
      "109/109 [==============================] - 1s 12ms/step - loss: 2.0654 - accuracy: 0.5782\n",
      "Epoch 47/500\n",
      "109/109 [==============================] - 1s 11ms/step - loss: 1.9799 - accuracy: 0.5949\n",
      "Epoch 48/500\n",
      "109/109 [==============================] - 1s 11ms/step - loss: 1.9127 - accuracy: 0.6085\n",
      "Epoch 49/500\n",
      "109/109 [==============================] - 1s 11ms/step - loss: 1.8423 - accuracy: 0.6275\n",
      "Epoch 50/500\n",
      "109/109 [==============================] - 1s 11ms/step - loss: 1.7911 - accuracy: 0.6249\n",
      "Epoch 51/500\n",
      "109/109 [==============================] - 1s 12ms/step - loss: 1.7242 - accuracy: 0.6451\n",
      "Epoch 52/500\n",
      "109/109 [==============================] - 1s 12ms/step - loss: 1.6769 - accuracy: 0.6580\n",
      "Epoch 53/500\n",
      "109/109 [==============================] - 1s 12ms/step - loss: 1.6113 - accuracy: 0.6747\n",
      "Epoch 54/500\n",
      "109/109 [==============================] - 1s 12ms/step - loss: 1.5704 - accuracy: 0.6742\n",
      "Epoch 55/500\n",
      "109/109 [==============================] - 1s 11ms/step - loss: 1.5149 - accuracy: 0.6868\n",
      "Epoch 56/500\n",
      "109/109 [==============================] - 1s 12ms/step - loss: 1.4637 - accuracy: 0.6972\n",
      "Epoch 57/500\n",
      "109/109 [==============================] - 1s 11ms/step - loss: 1.4153 - accuracy: 0.7076\n",
      "Epoch 58/500\n",
      "109/109 [==============================] - 1s 12ms/step - loss: 1.3767 - accuracy: 0.7168\n",
      "Epoch 59/500\n",
      "109/109 [==============================] - 1s 12ms/step - loss: 1.3408 - accuracy: 0.7254\n",
      "Epoch 60/500\n",
      "109/109 [==============================] - 1s 12ms/step - loss: 1.2941 - accuracy: 0.7393\n",
      "Epoch 61/500\n",
      "109/109 [==============================] - 1s 12ms/step - loss: 1.2606 - accuracy: 0.7349\n",
      "Epoch 62/500\n",
      "109/109 [==============================] - 1s 12ms/step - loss: 1.2311 - accuracy: 0.7436\n",
      "Epoch 63/500\n",
      "109/109 [==============================] - 1s 12ms/step - loss: 1.1776 - accuracy: 0.7583\n",
      "Epoch 64/500\n",
      "109/109 [==============================] - 1s 11ms/step - loss: 1.1586 - accuracy: 0.7603\n",
      "Epoch 65/500\n",
      "109/109 [==============================] - 1s 12ms/step - loss: 1.1358 - accuracy: 0.7626\n",
      "Epoch 66/500\n",
      "109/109 [==============================] - 1s 12ms/step - loss: 1.0886 - accuracy: 0.7741\n",
      "Epoch 67/500\n",
      "109/109 [==============================] - 1s 12ms/step - loss: 1.0608 - accuracy: 0.7802\n",
      "Epoch 68/500\n",
      "109/109 [==============================] - 1s 12ms/step - loss: 1.0396 - accuracy: 0.7825\n",
      "Epoch 69/500\n",
      "109/109 [==============================] - 1s 12ms/step - loss: 1.0082 - accuracy: 0.7900\n",
      "Epoch 70/500\n",
      "109/109 [==============================] - 1s 13ms/step - loss: 0.9777 - accuracy: 0.7917\n",
      "Epoch 71/500\n",
      "109/109 [==============================] - 1s 12ms/step - loss: 0.9462 - accuracy: 0.7986\n",
      "Epoch 72/500\n",
      "109/109 [==============================] - 1s 12ms/step - loss: 0.9381 - accuracy: 0.7989\n",
      "Epoch 73/500\n",
      "109/109 [==============================] - 1s 12ms/step - loss: 0.9102 - accuracy: 0.8067\n",
      "Epoch 74/500\n",
      "109/109 [==============================] - 1s 12ms/step - loss: 0.8818 - accuracy: 0.8099\n",
      "Epoch 75/500\n",
      "109/109 [==============================] - 1s 12ms/step - loss: 0.8740 - accuracy: 0.8139\n",
      "Epoch 76/500\n",
      "109/109 [==============================] - 1s 12ms/step - loss: 0.8315 - accuracy: 0.8243\n",
      "Epoch 77/500\n",
      "109/109 [==============================] - 1s 12ms/step - loss: 0.8343 - accuracy: 0.8191\n",
      "Epoch 78/500\n",
      "109/109 [==============================] - 1s 12ms/step - loss: 0.8027 - accuracy: 0.8243\n",
      "Epoch 79/500\n",
      "109/109 [==============================] - 1s 12ms/step - loss: 0.7766 - accuracy: 0.8329\n",
      "Epoch 80/500\n"
     ]
    },
    {
     "name": "stdout",
     "output_type": "stream",
     "text": [
      "109/109 [==============================] - 1s 13ms/step - loss: 0.7675 - accuracy: 0.8277\n",
      "Epoch 81/500\n",
      "109/109 [==============================] - 1s 11ms/step - loss: 0.7504 - accuracy: 0.8369\n",
      "Epoch 82/500\n",
      "109/109 [==============================] - 1s 11ms/step - loss: 0.7276 - accuracy: 0.8413\n",
      "Epoch 83/500\n",
      "109/109 [==============================] - 1s 11ms/step - loss: 0.7123 - accuracy: 0.8441\n",
      "Epoch 84/500\n",
      "109/109 [==============================] - 1s 11ms/step - loss: 0.6948 - accuracy: 0.8476\n",
      "Epoch 85/500\n",
      "109/109 [==============================] - 1s 11ms/step - loss: 0.6745 - accuracy: 0.8485\n",
      "Epoch 86/500\n",
      "109/109 [==============================] - 1s 11ms/step - loss: 0.6596 - accuracy: 0.8496\n",
      "Epoch 87/500\n",
      "109/109 [==============================] - 1s 11ms/step - loss: 0.6591 - accuracy: 0.8545\n",
      "Epoch 88/500\n",
      "109/109 [==============================] - 1s 11ms/step - loss: 0.6435 - accuracy: 0.8522\n",
      "Epoch 89/500\n",
      "109/109 [==============================] - 1s 11ms/step - loss: 0.6303 - accuracy: 0.8562\n",
      "Epoch 90/500\n",
      "109/109 [==============================] - 1s 12ms/step - loss: 0.6168 - accuracy: 0.8583\n",
      "Epoch 91/500\n",
      "109/109 [==============================] - 1s 11ms/step - loss: 0.6025 - accuracy: 0.8554\n",
      "Epoch 92/500\n",
      "109/109 [==============================] - 1s 13ms/step - loss: 0.5925 - accuracy: 0.8623\n",
      "Epoch 93/500\n",
      "109/109 [==============================] - 2s 15ms/step - loss: 0.5848 - accuracy: 0.8640\n",
      "Epoch 94/500\n",
      "109/109 [==============================] - 1s 12ms/step - loss: 0.5639 - accuracy: 0.8689\n",
      "Epoch 95/500\n",
      "109/109 [==============================] - 1s 12ms/step - loss: 0.5493 - accuracy: 0.8683\n",
      "Epoch 96/500\n",
      "109/109 [==============================] - 1s 11ms/step - loss: 0.5475 - accuracy: 0.8675\n",
      "Epoch 97/500\n",
      "109/109 [==============================] - 1s 11ms/step - loss: 0.5305 - accuracy: 0.8727\n",
      "Epoch 98/500\n",
      "109/109 [==============================] - 1s 13ms/step - loss: 0.5257 - accuracy: 0.8750\n",
      "Epoch 99/500\n",
      "109/109 [==============================] - 1s 12ms/step - loss: 0.5147 - accuracy: 0.8741\n",
      "Epoch 100/500\n",
      "109/109 [==============================] - 1s 12ms/step - loss: 0.5061 - accuracy: 0.8761\n",
      "Epoch 101/500\n",
      "109/109 [==============================] - 1s 11ms/step - loss: 0.5016 - accuracy: 0.8799\n",
      "Epoch 102/500\n",
      "109/109 [==============================] - 1s 11ms/step - loss: 0.4911 - accuracy: 0.8738\n",
      "Epoch 103/500\n",
      "109/109 [==============================] - 1s 12ms/step - loss: 0.4755 - accuracy: 0.8816\n",
      "Epoch 104/500\n",
      "109/109 [==============================] - 1s 11ms/step - loss: 0.4732 - accuracy: 0.8801\n",
      "Epoch 105/500\n",
      "109/109 [==============================] - 1s 11ms/step - loss: 0.4623 - accuracy: 0.8793\n",
      "Epoch 106/500\n",
      "109/109 [==============================] - 1s 12ms/step - loss: 0.4637 - accuracy: 0.8799\n",
      "Epoch 107/500\n",
      "109/109 [==============================] - 1s 11ms/step - loss: 0.4571 - accuracy: 0.8830\n",
      "Epoch 108/500\n",
      "109/109 [==============================] - 1s 11ms/step - loss: 0.4448 - accuracy: 0.8842\n",
      "Epoch 109/500\n",
      "109/109 [==============================] - 1s 11ms/step - loss: 0.4429 - accuracy: 0.8845\n",
      "Epoch 110/500\n",
      "109/109 [==============================] - 1s 12ms/step - loss: 0.4381 - accuracy: 0.8836\n",
      "Epoch 111/500\n",
      "109/109 [==============================] - 1s 12ms/step - loss: 0.4263 - accuracy: 0.8836\n",
      "Epoch 112/500\n",
      "109/109 [==============================] - 1s 12ms/step - loss: 0.4244 - accuracy: 0.8859\n",
      "Epoch 113/500\n",
      "109/109 [==============================] - 1s 12ms/step - loss: 0.4115 - accuracy: 0.8859\n",
      "Epoch 114/500\n",
      "109/109 [==============================] - 1s 12ms/step - loss: 0.4100 - accuracy: 0.8868\n",
      "Epoch 115/500\n",
      "109/109 [==============================] - 1s 11ms/step - loss: 0.4168 - accuracy: 0.8865\n",
      "Epoch 116/500\n",
      "109/109 [==============================] - 1s 12ms/step - loss: 0.4057 - accuracy: 0.8868\n",
      "Epoch 117/500\n",
      "109/109 [==============================] - 1s 12ms/step - loss: 0.4026 - accuracy: 0.8888\n",
      "Epoch 118/500\n",
      "109/109 [==============================] - 1s 11ms/step - loss: 0.3974 - accuracy: 0.8885\n",
      "Epoch 119/500\n",
      "109/109 [==============================] - 1s 12ms/step - loss: 0.3851 - accuracy: 0.8943\n",
      "Epoch 120/500\n",
      "109/109 [==============================] - 1s 12ms/step - loss: 0.3900 - accuracy: 0.8934\n",
      "Epoch 121/500\n",
      "109/109 [==============================] - 1s 13ms/step - loss: 0.3782 - accuracy: 0.8925\n",
      "Epoch 122/500\n",
      "109/109 [==============================] - 1s 12ms/step - loss: 0.3779 - accuracy: 0.8917\n",
      "Epoch 123/500\n",
      "109/109 [==============================] - 1s 12ms/step - loss: 0.3732 - accuracy: 0.8946\n",
      "Epoch 124/500\n",
      "109/109 [==============================] - 1s 12ms/step - loss: 0.3656 - accuracy: 0.8934\n",
      "Epoch 125/500\n",
      "109/109 [==============================] - 1s 12ms/step - loss: 0.3725 - accuracy: 0.8871\n",
      "Epoch 126/500\n",
      "109/109 [==============================] - 1s 12ms/step - loss: 0.3614 - accuracy: 0.8951\n",
      "Epoch 127/500\n",
      "109/109 [==============================] - 1s 12ms/step - loss: 0.3602 - accuracy: 0.8914\n",
      "Epoch 128/500\n",
      "109/109 [==============================] - 1s 11ms/step - loss: 0.3577 - accuracy: 0.8957\n",
      "Epoch 129/500\n",
      "109/109 [==============================] - 1s 12ms/step - loss: 0.3556 - accuracy: 0.8928\n",
      "Epoch 130/500\n",
      "109/109 [==============================] - 1s 12ms/step - loss: 0.3541 - accuracy: 0.8948\n",
      "Epoch 131/500\n",
      "109/109 [==============================] - 1s 11ms/step - loss: 0.3551 - accuracy: 0.8920\n",
      "Epoch 132/500\n",
      "109/109 [==============================] - 1s 12ms/step - loss: 0.3522 - accuracy: 0.8897\n",
      "Epoch 133/500\n",
      "109/109 [==============================] - 1s 12ms/step - loss: 0.3460 - accuracy: 0.8986\n",
      "Epoch 134/500\n",
      "109/109 [==============================] - 1s 12ms/step - loss: 0.3497 - accuracy: 0.8902\n",
      "Epoch 135/500\n",
      "109/109 [==============================] - 1s 11ms/step - loss: 0.3442 - accuracy: 0.8908\n",
      "Epoch 136/500\n",
      "109/109 [==============================] - 1s 12ms/step - loss: 0.3383 - accuracy: 0.8960\n",
      "Epoch 137/500\n",
      "109/109 [==============================] - 1s 11ms/step - loss: 0.3336 - accuracy: 0.8954\n",
      "Epoch 138/500\n",
      "109/109 [==============================] - 1s 12ms/step - loss: 0.3334 - accuracy: 0.8974\n",
      "Epoch 139/500\n",
      "109/109 [==============================] - 1s 12ms/step - loss: 0.3322 - accuracy: 0.8957\n",
      "Epoch 140/500\n",
      "109/109 [==============================] - 1s 12ms/step - loss: 0.3314 - accuracy: 0.8943\n",
      "Epoch 141/500\n",
      "109/109 [==============================] - 1s 11ms/step - loss: 0.3267 - accuracy: 0.8948\n",
      "Epoch 142/500\n",
      "109/109 [==============================] - 1s 12ms/step - loss: 0.3231 - accuracy: 0.8983\n",
      "Epoch 143/500\n",
      "109/109 [==============================] - 1s 12ms/step - loss: 0.3278 - accuracy: 0.8928\n",
      "Epoch 144/500\n",
      "109/109 [==============================] - 1s 12ms/step - loss: 0.3327 - accuracy: 0.8911\n",
      "Epoch 145/500\n",
      "109/109 [==============================] - 1s 12ms/step - loss: 0.3259 - accuracy: 0.8951\n"
     ]
    },
    {
     "data": {
      "text/plain": [
       "<tensorflow.python.keras.callbacks.History at 0x1a3ccd8d10>"
      ]
     },
     "execution_count": 13,
     "metadata": {},
     "output_type": "execute_result"
    }
   ],
   "source": [
    "model.fit(x_train, y_train, epochs=500, batch_size=32,callbacks=[callback])"
   ]
  },
  {
   "cell_type": "code",
   "execution_count": 14,
   "metadata": {},
   "outputs": [
    {
     "name": "stdout",
     "output_type": "stream",
     "text": [
      "28/28 [==============================] - 0s 4ms/step - loss: 12.6254 - accuracy: 0.0553\n"
     ]
    }
   ],
   "source": [
    "loss, accuracy = model.evaluate(x_test, y_test)"
   ]
  },
  {
   "cell_type": "code",
   "execution_count": 15,
   "metadata": {},
   "outputs": [
    {
     "name": "stdout",
     "output_type": "stream",
     "text": [
      "loss: 12.625411033630371\n",
      "accuracy: 0.0552995391190052\n"
     ]
    }
   ],
   "source": [
    "print(\"loss:\",loss)\n",
    "print(\"accuracy:\",accuracy)"
   ]
  },
  {
   "cell_type": "code",
   "execution_count": null,
   "metadata": {},
   "outputs": [],
   "source": []
  }
 ],
 "metadata": {
  "kernelspec": {
   "display_name": "Python 3",
   "language": "python",
   "name": "python3"
  },
  "language_info": {
   "codemirror_mode": {
    "name": "ipython",
    "version": 3
   },
   "file_extension": ".py",
   "mimetype": "text/x-python",
   "name": "python",
   "nbconvert_exporter": "python",
   "pygments_lexer": "ipython3",
   "version": "3.7.4"
  }
 },
 "nbformat": 4,
 "nbformat_minor": 4
}
