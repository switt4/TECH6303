{
 "cells": [
  {
   "cell_type": "code",
   "execution_count": 1,
   "metadata": {},
   "outputs": [],
   "source": [
    "import tensorflow as tf"
   ]
  },
  {
   "cell_type": "code",
   "execution_count": 2,
   "metadata": {},
   "outputs": [],
   "source": [
    "(x_train, y_train), (x_test, y_test) = tf.keras.datasets.cifar10.load_data()"
   ]
  },
  {
   "cell_type": "code",
   "execution_count": 3,
   "metadata": {},
   "outputs": [],
   "source": [
    "x_train = x_train.astype('float32')/255\n",
    "x_test = x_test.astype('float32')/255"
   ]
  },
  {
   "cell_type": "code",
   "execution_count": 4,
   "metadata": {},
   "outputs": [],
   "source": [
    "y_train = tf.keras.utils.to_categorical(y_train,100)\n",
    "y_test = tf.keras.utils.to_categorical(y_test,100)"
   ]
  },
  {
   "cell_type": "code",
   "execution_count": 5,
   "metadata": {},
   "outputs": [],
   "source": [
    "model = tf.keras.models.Sequential()"
   ]
  },
  {
   "cell_type": "code",
   "execution_count": 6,
   "metadata": {},
   "outputs": [],
   "source": [
    "#1. Input layer\n",
    "model.add(tf.keras.layers.Conv2D(32, (3, 3), input_shape=(32, 32, 3), activation='relu'))\n",
    "#2. Convolution layer\n",
    "model.add(tf.keras.layers.Conv2D(32, (3, 3), activation='relu'))\n",
    "#2. Pooling layer\n",
    "model.add(tf.keras.layers.MaxPooling2D(pool_size=(2, 2)))\n",
    "#3. Dropout layer\n",
    "model.add(tf.keras.layers.Dropout(0.25))\n",
    "#4. Convolution layer\n",
    "model.add(tf.keras.layers.Conv2D(64,(3, 3), activation='relu'))\n",
    "#5. Convolution layer\n",
    "model.add(tf.keras.layers.Conv2D(64,(3, 3), activation='relu'))\n",
    "#6. Pooling layer\n",
    "model.add(tf.keras.layers.MaxPooling2D(pool_size=(2, 2)))\n",
    "#7. Dropout layer\n",
    "model.add(tf.keras.layers.Dropout(0.25))\n",
    "#8. Flattening layer\n",
    "model.add(tf.keras.layers.Flatten())\n",
    "#9. Fully connected layer\n",
    "model.add(tf.keras.layers.Dense(units=512, activation='relu'))\n",
    "#10. Dropout layer\n",
    "model.add(tf.keras.layers.Dropout(0.5))\n",
    "#11. Output layer\n",
    "model.add(tf.keras.layers.Dense(units=100, activation='softmax'))"
   ]
  },
  {
   "cell_type": "code",
   "execution_count": 7,
   "metadata": {},
   "outputs": [],
   "source": [
    "model.compile(optimizer='adam', loss='categorical_crossentropy', metrics=['accuracy'])"
   ]
  },
  {
   "cell_type": "code",
   "execution_count": 8,
   "metadata": {},
   "outputs": [
    {
     "name": "stdout",
     "output_type": "stream",
     "text": [
      "Model: \"sequential\"\n",
      "_________________________________________________________________\n",
      "Layer (type)                 Output Shape              Param #   \n",
      "=================================================================\n",
      "conv2d (Conv2D)              (None, 30, 30, 32)        896       \n",
      "_________________________________________________________________\n",
      "conv2d_1 (Conv2D)            (None, 28, 28, 32)        9248      \n",
      "_________________________________________________________________\n",
      "max_pooling2d (MaxPooling2D) (None, 14, 14, 32)        0         \n",
      "_________________________________________________________________\n",
      "dropout (Dropout)            (None, 14, 14, 32)        0         \n",
      "_________________________________________________________________\n",
      "conv2d_2 (Conv2D)            (None, 12, 12, 64)        18496     \n",
      "_________________________________________________________________\n",
      "conv2d_3 (Conv2D)            (None, 10, 10, 64)        36928     \n",
      "_________________________________________________________________\n",
      "max_pooling2d_1 (MaxPooling2 (None, 5, 5, 64)          0         \n",
      "_________________________________________________________________\n",
      "dropout_1 (Dropout)          (None, 5, 5, 64)          0         \n",
      "_________________________________________________________________\n",
      "flatten (Flatten)            (None, 1600)              0         \n",
      "_________________________________________________________________\n",
      "dense (Dense)                (None, 512)               819712    \n",
      "_________________________________________________________________\n",
      "dropout_2 (Dropout)          (None, 512)               0         \n",
      "_________________________________________________________________\n",
      "dense_1 (Dense)              (None, 100)               51300     \n",
      "=================================================================\n",
      "Total params: 936,580\n",
      "Trainable params: 936,580\n",
      "Non-trainable params: 0\n",
      "_________________________________________________________________\n"
     ]
    }
   ],
   "source": [
    "model.summary()"
   ]
  },
  {
   "cell_type": "code",
   "execution_count": 9,
   "metadata": {},
   "outputs": [
    {
     "name": "stdout",
     "output_type": "stream",
     "text": [
      "Epoch 1/10\n",
      "1563/1563 [==============================] - 96s 61ms/step - loss: 1.5967 - accuracy: 0.4205\n",
      "Epoch 2/10\n",
      "1563/1563 [==============================] - 98s 63ms/step - loss: 1.1689 - accuracy: 0.5849\n",
      "Epoch 3/10\n",
      "1563/1563 [==============================] - 100s 64ms/step - loss: 1.0114 - accuracy: 0.6403\n",
      "Epoch 4/10\n",
      "1563/1563 [==============================] - 99s 63ms/step - loss: 0.9126 - accuracy: 0.6765\n",
      "Epoch 5/10\n",
      "1563/1563 [==============================] - 101s 65ms/step - loss: 0.8433 - accuracy: 0.7036\n",
      "Epoch 6/10\n",
      "1563/1563 [==============================] - 100s 64ms/step - loss: 0.7970 - accuracy: 0.7216\n",
      "Epoch 7/10\n",
      "1563/1563 [==============================] - 100s 64ms/step - loss: 0.7551 - accuracy: 0.7350\n",
      "Epoch 8/10\n",
      "1563/1563 [==============================] - 102s 65ms/step - loss: 0.7249 - accuracy: 0.7466\n",
      "Epoch 9/10\n",
      "1563/1563 [==============================] - 103s 66ms/step - loss: 0.7001 - accuracy: 0.7546\n",
      "Epoch 10/10\n",
      "1563/1563 [==============================] - 104s 66ms/step - loss: 0.6711 - accuracy: 0.7642\n"
     ]
    },
    {
     "data": {
      "text/plain": [
       "<tensorflow.python.keras.callbacks.History at 0x64d1330d0>"
      ]
     },
     "execution_count": 9,
     "metadata": {},
     "output_type": "execute_result"
    }
   ],
   "source": [
    "model.fit(x_train, y_train, epochs=10, batch_size=32)"
   ]
  },
  {
   "cell_type": "code",
   "execution_count": null,
   "metadata": {},
   "outputs": [],
   "source": [
    "loss, accuracy = model.evaluate(x_test, y_test)"
   ]
  },
  {
   "cell_type": "code",
   "execution_count": null,
   "metadata": {},
   "outputs": [],
   "source": [
    "print(\"loss:\",loss)"
   ]
  },
  {
   "cell_type": "code",
   "execution_count": null,
   "metadata": {},
   "outputs": [],
   "source": [
    "print(\"accuracy:\",accuracy)"
   ]
  },
  {
   "cell_type": "code",
   "execution_count": null,
   "metadata": {},
   "outputs": [],
   "source": []
  }
 ],
 "metadata": {
  "kernelspec": {
   "display_name": "Python 3",
   "language": "python",
   "name": "python3"
  },
  "language_info": {
   "codemirror_mode": {
    "name": "ipython",
    "version": 3
   },
   "file_extension": ".py",
   "mimetype": "text/x-python",
   "name": "python",
   "nbconvert_exporter": "python",
   "pygments_lexer": "ipython3",
   "version": "3.7.4"
  }
 },
 "nbformat": 4,
 "nbformat_minor": 4
}
