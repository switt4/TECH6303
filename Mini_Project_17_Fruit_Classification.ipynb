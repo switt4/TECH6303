{
 "cells": [
  {
   "cell_type": "code",
   "execution_count": 1,
   "metadata": {},
   "outputs": [],
   "source": [
    "import tensorflow as tf\n",
    "import pandas as pd\n",
    "import matplotlib.pyplot as plt"
   ]
  },
  {
   "cell_type": "code",
   "execution_count": 2,
   "metadata": {},
   "outputs": [],
   "source": [
    "train_datagen = tf.keras.preprocessing.image.ImageDataGenerator(rescale = 1./255,\n",
    "                                                            shear_range = 0.2,\n",
    "                                                            zoom_range = 0.2,\n",
    "                                                            horizontal_flip = True)"
   ]
  },
  {
   "cell_type": "code",
   "execution_count": 3,
   "metadata": {},
   "outputs": [],
   "source": [
    "test_datagen = tf.keras.preprocessing.image.ImageDataGenerator(rescale = 1./255)"
   ]
  },
  {
   "cell_type": "code",
   "execution_count": 4,
   "metadata": {},
   "outputs": [
    {
     "name": "stdout",
     "output_type": "stream",
     "text": [
      "Found 1571 images belonging to 5 classes.\n"
     ]
    }
   ],
   "source": [
    "training_set = train_datagen.flow_from_directory('datasets/fruit/Training/',\n",
    "                                                target_size = (100,100),\n",
    "                                                batch_size = 32,\n",
    "                                                class_mode = 'categorical',\n",
    "                                                shuffle = True)"
   ]
  },
  {
   "cell_type": "code",
   "execution_count": 5,
   "metadata": {},
   "outputs": [
    {
     "name": "stdout",
     "output_type": "stream",
     "text": [
      "Found 784 images belonging to 5 classes.\n"
     ]
    }
   ],
   "source": [
    "test_set = test_datagen.flow_from_directory('datasets/fruit/Test/',\n",
    "                                           target_size = (100,100),\n",
    "                                           batch_size = 32,\n",
    "                                           class_mode = 'categorical',\n",
    "                                           shuffle = False)"
   ]
  },
  {
   "cell_type": "code",
   "execution_count": 6,
   "metadata": {},
   "outputs": [],
   "source": [
    "classifier = tf.keras.models.Sequential()"
   ]
  },
  {
   "cell_type": "code",
   "execution_count": 7,
   "metadata": {},
   "outputs": [],
   "source": [
    "#1. Convolution layer\n",
    "classifier.add(tf.keras.layers.Conv2D(16,(2,2),input_shape=(100,100,3),activation='relu'))\n",
    "\n",
    "#2. Pooling layer\n",
    "classifier.add(tf.keras.layers.MaxPooling2D(pool_size = (2,2)))\n",
    "\n",
    "#3. Second convolution layer\n",
    "classifier.add(tf.keras.layers.Conv2D(32,(2,2),activation='relu'))\n",
    "\n",
    "#4. Second pooling layer\n",
    "classifier.add(tf.keras.layers.MaxPooling2D(pool_size = (2,2)))\n",
    "\n",
    "#5. Add third and fourth convolution layers\n",
    "classifier.add(tf.keras.layers.Conv2D(64,(2,2),activation='relu'))\n",
    "classifier.add(tf.keras.layers.Conv2D(64,(2,2),activation='relu'))\n",
    "\n",
    "#6. Third pooling layer\n",
    "classifier.add(tf.keras.layers.MaxPooling2D(pool_size = (2,2)))\n",
    "\n",
    "#7. Dropout layer\n",
    "classifier.add(tf.keras.layers.Dropout(0.3))\n",
    "\n",
    "#8. Flattening layer\n",
    "classifier.add(tf.keras.layers.Flatten())\n",
    "\n",
    "#9. Full connection\n",
    "classifier.add(tf.keras.layers.Dense(units = 12, activation = 'relu'))\n",
    "\n",
    "#10. Second dropout layer\n",
    "classifier.add(tf.keras.layers.Dropout(0.4))\n",
    "\n",
    "#11. Ouput layer\n",
    "classifier.add(tf.keras.layers.Dense(units = 5, activation = 'softmax'))"
   ]
  },
  {
   "cell_type": "code",
   "execution_count": 8,
   "metadata": {},
   "outputs": [],
   "source": [
    "classifier.compile(optimizer = 'rmsprop',\n",
    "                  loss = 'categorical_crossentropy',\n",
    "                  metrics = ['accuracy'])"
   ]
  },
  {
   "cell_type": "code",
   "execution_count": 9,
   "metadata": {},
   "outputs": [
    {
     "name": "stdout",
     "output_type": "stream",
     "text": [
      "WARNING:tensorflow:From <ipython-input-9-1e8a9c438de2>:5: Model.fit_generator (from tensorflow.python.keras.engine.training) is deprecated and will be removed in a future version.\n",
      "Instructions for updating:\n",
      "Please use Model.fit, which supports generators.\n",
      "Epoch 1/30\n",
      "32/32 [==============================] - 9s 271ms/step - loss: 1.4821 - accuracy: 0.3126 - val_loss: 1.6141 - val_accuracy: 0.0188\n",
      "Epoch 2/30\n",
      "32/32 [==============================] - 11s 348ms/step - loss: 1.3187 - accuracy: 0.4170 - val_loss: 1.4964 - val_accuracy: 0.0531\n",
      "Epoch 3/30\n",
      "32/32 [==============================] - 11s 346ms/step - loss: 1.2059 - accuracy: 0.4492 - val_loss: 1.1873 - val_accuracy: 0.4000\n",
      "Epoch 4/30\n",
      "32/32 [==============================] - 9s 267ms/step - loss: 1.1212 - accuracy: 0.4633 - val_loss: 1.1956 - val_accuracy: 0.5500\n",
      "Epoch 5/30\n",
      "32/32 [==============================] - 8s 249ms/step - loss: 1.0745 - accuracy: 0.5059 - val_loss: 0.8561 - val_accuracy: 0.9656\n",
      "Epoch 6/30\n",
      "32/32 [==============================] - 8s 238ms/step - loss: 0.9914 - accuracy: 0.5459 - val_loss: 0.6035 - val_accuracy: 1.0000\n",
      "Epoch 7/30\n",
      "32/32 [==============================] - 9s 267ms/step - loss: 0.9310 - accuracy: 0.5791 - val_loss: 0.4357 - val_accuracy: 1.0000\n",
      "Epoch 8/30\n",
      "32/32 [==============================] - 8s 257ms/step - loss: 0.8378 - accuracy: 0.6475 - val_loss: 0.2463 - val_accuracy: 1.0000\n",
      "Epoch 9/30\n",
      "32/32 [==============================] - 8s 246ms/step - loss: 0.7338 - accuracy: 0.6894 - val_loss: 0.2462 - val_accuracy: 1.0000\n",
      "Epoch 10/30\n",
      "32/32 [==============================] - 8s 241ms/step - loss: 0.7065 - accuracy: 0.6945 - val_loss: 0.2318 - val_accuracy: 1.0000\n",
      "Epoch 11/30\n",
      "32/32 [==============================] - 8s 255ms/step - loss: 0.6099 - accuracy: 0.7276 - val_loss: 0.1013 - val_accuracy: 1.0000\n",
      "Epoch 12/30\n",
      "32/32 [==============================] - 8s 253ms/step - loss: 0.5683 - accuracy: 0.7354 - val_loss: 0.4477 - val_accuracy: 0.5188\n",
      "Epoch 13/30\n",
      "32/32 [==============================] - 8s 244ms/step - loss: 0.6546 - accuracy: 0.7065 - val_loss: 0.0688 - val_accuracy: 1.0000\n",
      "Epoch 14/30\n",
      "32/32 [==============================] - 8s 251ms/step - loss: 0.5596 - accuracy: 0.7461 - val_loss: 0.0362 - val_accuracy: 0.9937\n",
      "Epoch 15/30\n",
      "32/32 [==============================] - 8s 246ms/step - loss: 0.6043 - accuracy: 0.7327 - val_loss: 0.0356 - val_accuracy: 1.0000\n",
      "Epoch 16/30\n",
      "32/32 [==============================] - 8s 253ms/step - loss: 0.4992 - accuracy: 0.7646 - val_loss: 0.0107 - val_accuracy: 1.0000\n",
      "Epoch 17/30\n",
      "32/32 [==============================] - 8s 254ms/step - loss: 0.5864 - accuracy: 0.7373 - val_loss: 0.0303 - val_accuracy: 1.0000\n",
      "Epoch 18/30\n",
      "32/32 [==============================] - 10s 302ms/step - loss: 0.4731 - accuracy: 0.7617 - val_loss: 0.0390 - val_accuracy: 1.0000\n",
      "Epoch 19/30\n",
      "32/32 [==============================] - 9s 273ms/step - loss: 0.4872 - accuracy: 0.7705 - val_loss: 0.0172 - val_accuracy: 1.0000\n",
      "Epoch 20/30\n",
      "32/32 [==============================] - 9s 272ms/step - loss: 0.4481 - accuracy: 0.7829 - val_loss: 0.0084 - val_accuracy: 1.0000\n",
      "Epoch 21/30\n",
      "32/32 [==============================] - 8s 252ms/step - loss: 0.5053 - accuracy: 0.7578 - val_loss: 0.0075 - val_accuracy: 1.0000\n",
      "Epoch 22/30\n",
      "32/32 [==============================] - 8s 257ms/step - loss: 0.4703 - accuracy: 0.7588 - val_loss: 0.0155 - val_accuracy: 1.0000\n",
      "Epoch 23/30\n",
      "32/32 [==============================] - 8s 252ms/step - loss: 0.4826 - accuracy: 0.7637 - val_loss: 0.4261 - val_accuracy: 0.8094\n",
      "Epoch 24/30\n",
      "32/32 [==============================] - 9s 272ms/step - loss: 0.4609 - accuracy: 0.7656 - val_loss: 0.0079 - val_accuracy: 1.0000\n",
      "Epoch 25/30\n",
      "32/32 [==============================] - 8s 262ms/step - loss: 0.4697 - accuracy: 0.7549 - val_loss: 0.0101 - val_accuracy: 1.0000\n",
      "Epoch 26/30\n",
      "32/32 [==============================] - 8s 243ms/step - loss: 0.4828 - accuracy: 0.7558 - val_loss: 0.0063 - val_accuracy: 1.0000\n",
      "Epoch 27/30\n",
      "32/32 [==============================] - 8s 242ms/step - loss: 0.4424 - accuracy: 0.7809 - val_loss: 0.0361 - val_accuracy: 0.9937\n",
      "Epoch 28/30\n",
      "32/32 [==============================] - 8s 253ms/step - loss: 0.4232 - accuracy: 0.7779 - val_loss: 0.0053 - val_accuracy: 1.0000\n",
      "Epoch 29/30\n",
      "32/32 [==============================] - 8s 238ms/step - loss: 0.5068 - accuracy: 0.7538 - val_loss: 0.0127 - val_accuracy: 1.0000\n",
      "Epoch 30/30\n",
      "32/32 [==============================] - 8s 253ms/step - loss: 0.4272 - accuracy: 0.7656 - val_loss: 0.0092 - val_accuracy: 1.0000\n"
     ]
    }
   ],
   "source": [
    "cnn = classifier.fit_generator(generator = training_set,\n",
    "                              steps_per_epoch = 32,\n",
    "                              epochs = 30,\n",
    "                              validation_data = test_set,\n",
    "                              validation_steps = 10)"
   ]
  },
  {
   "cell_type": "code",
   "execution_count": 10,
   "metadata": {},
   "outputs": [
    {
     "data": {
      "image/png": "[encoded data removed]",
      "text/plain": [
       "<Figure size 432x288 with 1 Axes>"
      ]
     },
     "metadata": {
      "needs_background": "light"
     },
     "output_type": "display_data"
    }
   ],
   "source": [
    "plt.plot(cnn.history['accuracy'],color=\"r\",label=\"accuracy\")\n",
    "plt.title('Accuracy Graph')\n",
    "plt.xlabel('number of epochs')\n",
    "plt.ylabel('accuracy')\n",
    "plt.legend()\n",
    "plt.grid()\n",
    "plt.show()"
   ]
  },
  {
   "cell_type": "code",
   "execution_count": 11,
   "metadata": {},
   "outputs": [],
   "source": [
    "test_labels = test_set.labels"
   ]
  },
  {
   "cell_type": "code",
   "execution_count": 12,
   "metadata": {},
   "outputs": [],
   "source": [
    "predictions = classifier.predict(test_set)"
   ]
  },
  {
   "cell_type": "code",
   "execution_count": 14,
   "metadata": {},
   "outputs": [],
   "source": [
    "import numpy as np\n",
    "predict_labels = np.argmax(predictions, axis=-1)"
   ]
  },
  {
   "cell_type": "code",
   "execution_count": 16,
   "metadata": {},
   "outputs": [
    {
     "name": "stdout",
     "output_type": "stream",
     "text": [
      "Confusion Matrix: \n",
      " [[154   0   0   0   0]\n",
      " [  0 160   0   0   0]\n",
      " [  0   0 154   0   0]\n",
      " [  0   0   0 154   0]\n",
      " [  0   0   0   0 162]]\n"
     ]
    }
   ],
   "source": [
    "from sklearn.metrics import confusion_matrix\n",
    "np.set_printoptions(threshold = np.inf)\n",
    "\n",
    "print(\"Confusion Matrix: \\n\", confusion_matrix(test_labels,predict_labels))"
   ]
  },
  {
   "cell_type": "code",
   "execution_count": 18,
   "metadata": {},
   "outputs": [
    {
     "data": {
      "image/png": "[encoded data removed]",
      "text/plain": [
       "<Figure size 1152x1152 with 2 Axes>"
      ]
     },
     "metadata": {},
     "output_type": "display_data"
    }
   ],
   "source": [
    "import seaborn as sns\n",
    "\n",
    "sns.set(font_scale = 1.0)\n",
    "plt.figure(figsize = (16,16))\n",
    "\n",
    "CM = confusion_matrix(test_labels,predict_labels)\n",
    "ax = plt.axes()\n",
    "\n",
    "sns.heatmap(CM, annot = True,\n",
    "           annot_kws={'size':10},\n",
    "           fmt='d',\n",
    "           xticklabels=range(0,5),\n",
    "           yticklabels=range(0,5),\n",
    "           ax=ax)\n",
    "ax.set_title('Confusion Matrix')\n",
    "\n",
    "plt.show()"
   ]
  },
  {
   "cell_type": "code",
   "execution_count": null,
   "metadata": {},
   "outputs": [],
   "source": []
  }
 ],
 "metadata": {
  "kernelspec": {
   "display_name": "Python 3",
   "language": "python",
   "name": "python3"
  },
  "language_info": {
   "codemirror_mode": {
    "name": "ipython",
    "version": 3
   },
   "file_extension": ".py",
   "mimetype": "text/x-python",
   "name": "python",
   "nbconvert_exporter": "python",
   "pygments_lexer": "ipython3",
   "version": "3.7.4"
  }
 },
 "nbformat": 4,
 "nbformat_minor": 4
}
